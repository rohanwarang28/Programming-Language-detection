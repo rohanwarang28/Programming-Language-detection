{
  "nbformat": 4,
  "nbformat_minor": 0,
  "metadata": {
    "colab": {
      "name": "Copy of natural_language_processing.ipynb",
      "provenance": [],
      "collapsed_sections": [],
      "toc_visible": true,
      "include_colab_link": true
    },
    "kernelspec": {
      "name": "python3",
      "display_name": "Python 3"
    }
  },
  "cells": [
    {
      "cell_type": "markdown",
      "metadata": {
        "id": "view-in-github",
        "colab_type": "text"
      },
      "source": [
        "<a href=\"https://colab.research.google.com/github/rohanwarang28/Programming-Language-detection/blob/main/Copy_of_natural_language_processing.ipynb\" target=\"_parent\"><img src=\"https://colab.research.google.com/assets/colab-badge.svg\" alt=\"Open In Colab\"/></a>"
      ]
    },
    {
      "cell_type": "markdown",
      "metadata": {
        "id": "VwK5-9FIB-lu"
      },
      "source": [
        "# Natural Language Processing"
      ]
    },
    {
      "cell_type": "markdown",
      "metadata": {
        "id": "X1kiO9kACE6s"
      },
      "source": [
        "## Importing the libraries"
      ]
    },
    {
      "cell_type": "code",
      "metadata": {
        "id": "7QG7sxmoCIvN"
      },
      "source": [
        "import numpy as np\n",
        "import matplotlib.pyplot as plt\n",
        "import pandas as pd"
      ],
      "execution_count": 28,
      "outputs": []
    },
    {
      "cell_type": "markdown",
      "metadata": {
        "id": "wTfaCIzdCLPA"
      },
      "source": [
        "## Importing the dataset"
      ]
    },
    {
      "cell_type": "code",
      "metadata": {
        "id": "UCK6vQ5QCQJe"
      },
      "source": [
        "dataset = pd.read_excel('Top Programming languages.xlsx')\n",
        "X = dataset.iloc[:,:-1].values\n",
        "y = dataset.iloc[:,-1].values"
      ],
      "execution_count": 29,
      "outputs": []
    },
    {
      "cell_type": "code",
      "metadata": {
        "id": "TTSv0iQinbPt",
        "outputId": "1fc2543f-f202-49f5-911b-4f41efdec5c2",
        "colab": {
          "base_uri": "https://localhost:8080/"
        }
      },
      "source": [
        "print(X)"
      ],
      "execution_count": 30,
      "outputs": [
        {
          "output_type": "stream",
          "text": [
            "[['alert, body, class, click, content, data, div, document, else, false, for, form, function, getelementbyid, height, href, html, http, id, if, img, input, is,\\njavascript, jquery, js, length, li, name, new, onclick,\\noption, return, script, span, src, style, td, text, the,\\nthis, title, to, tr, true, type, value, var, width, window']\n",
            " ['as, begin, by, case, count, create, date, datetime, dbo, declare, default, desc, end, for, from, group, id, if, in, inner, insert, int, into, is, join, key, left, name, not, null, on, or, order, primary, select, set, sql, sum, t1, table, the, then, to, type, update, value, values, varchar, when, where']\n",
            " ['add, apache, at, catch, class, com, exception, false, file, final, for, http, id, if, import, in, int, is, java, javax, lang, list, main, method, name, new, null, object, of, org, out, println, private, property, public, return, source, static, string, sun, system, the, this, to, true, try, type, value, void, xml,{,},;']\n",
            " ['add, asp, at, bool, byte, class, console, data, else, false, foo, for, foreach, from, get, id, if, in, int, is, item, list, name, new, null, object, of, private, public, return, select, sender, server, set, static, string, system, text, the, this, to, tostring, true, type, using, value, var, void, where, writeline']\n",
            " ['__init__, and, class, data, db, def, django, error, file, foo, for, from, http, id, if, import, in, is, lib, line, models, module, name, none, not, object, of, open, os, packages, path, print, py, python, python2, request, return, self, site, sys, test, text, the, this, to, true, type, user, usr, value,input,float,sum']\n",
            " ['_post, and, array, as, br, class, com, content, data, div, echo, else, file, for, from, function, html, http, id, if, in, input, is, name, new, null, of, option, php, public, query, result, return, row, select, string, td, test, text, the, this, title, to, true, type, url, user, value, where, www']\n",
            " ['and, bool, boost, char, class, const, cout, cpp, data, double, else, end, endl, error, file, foo, for, function, if, in, include, int, is, it, main, name, new, null, of, operator, private:, public:, return, size, std, string, struct, template, test, the, this, to, type, typename, unsigned, using, value, vector, virtual, void']\n",
            " ['and, argc, argv, array, break, buffer, case, char, const, count, data, define, double, else, error, exit, file, for, from, function, if, in, include, int, is, list, long, main, malloc, name, next, node, null, of, printf, return, size, sizeof, stdio, string, struct, temp, the, this, to, typedef, unsigned, value, void, while']\n",
            " ['angular, angular2, any, app, class, component, console, constructor, core, data, div, error, export, false, from, function, html, http, id, if, import, interface, is, js, json, let, log, module, name, new, ng, node_modules, number, path, private, public, require, return, router, script, src, string, the, this, to, true, ts, type, value, var']\n",
            " ['activerecord, and, base, bin, class, com, def, div, do, each, end, error, file, foo, for, from, gem, gems, html, http, id, if, in, include, is, lib, library, local, name, new, nil, params, post, puts, rails, rake, rb, require, ruby, rubygems, self, string, test, the, to, true, type, user, users, usr']\n",
            " ['anyobject, array, as, bool, case, cell, class, data, else, error, false, for, frame, func, height, iboutlet, if, image, import, in, indexpath, init, int, is, let, name, nil, not, nsstring, of, override, println, return, self, sender, size, string, super, swift, tableview, text, the, to, true, uikit, value, var, view, viewdidload, width']\n",
            " ['alloc, array, bool, cell, count, data, delegate, else, end, error, for, frame, id, if, import, in, indexpath, init, int, interface, is, name, nil, no, nonatomic, nsarray, nslog, nsmutablearray, nsstring, objectatindex, of, property, release, retain, return, selector, self, size, string, stringwithformat, super, tableview, text, the, to, uiimage, uiview, view, void, yes']\n",
            " ['add, and, as, asp, byval, class, data, dim, end, false, for, from, function, get, handles, id, if, in, integer, is, item, me, name, new, next, not, nothing, object, of, private, property, public, return, runat, select, sender, server, set, string, sub, system, text, the, then, to, tostring, true, try, type, value']\n",
            " ['and, at, bin, data, die, error, file, foo, for, foreach, from, hash, html, http, id, if, in, is, lib, line, my, name, new, not, of, open, or, perl, pl, pm, print, return, self, shift, strict, string, sub, test, text, the, this, to, txt, type, use, usr, value, warnings, while, xml']\n",
            " ['activecell, activesheet, add, and, application, as, cell, cells, count, data, dim, each, else, end, error, false, for, function, if, in, integer, is, long, me, msgbox, name, new, next, not, nothing, of, offset, private, range, row, rows, select, selection, set, sheets, string, sub, text, the, then, to, true, value, with, worksheets']]\n"
          ],
          "name": "stdout"
        }
      ]
    },
    {
      "cell_type": "code",
      "metadata": {
        "id": "M_hWqP7jnbai",
        "outputId": "4cfd6fb3-df18-47c0-c288-ad7213c58cb8",
        "colab": {
          "base_uri": "https://localhost:8080/"
        }
      },
      "source": [
        "print(y)"
      ],
      "execution_count": 31,
      "outputs": [
        {
          "output_type": "stream",
          "text": [
            "['JavaScript' 'SQL' 'Java' 'C#' 'Python' 'PHP' 'C++' 'C' 'TypeScript'\n",
            " 'Ruby' 'Swift' 'Objective-C' 'Vb.Net' 'Perl' 'VBA']\n"
          ],
          "name": "stdout"
        }
      ]
    },
    {
      "cell_type": "markdown",
      "metadata": {
        "id": "CLqmAkANCp1-"
      },
      "source": [
        "## Cleaning the text\n",
        "\n",
        "\n"
      ]
    },
    {
      "cell_type": "code",
      "metadata": {
        "id": "zyyQQNDcvB5n"
      },
      "source": [
        "import re\n",
        "import nltk\n",
        "\n",
        "\n",
        "from nltk.stem.porter import PorterStemmer\n",
        "corpus = []\n",
        "\n",
        "for i in range(0, 15):\n",
        "  review = re.sub(',', ' ', dataset['Top Features'][i])\n",
        "  \n",
        "  review = review.split()\n",
        " \n",
        "  review = ' '.join(review)\n",
        "  corpus.append(review)\n",
        "   \n",
        " \n",
        " "
      ],
      "execution_count": 32,
      "outputs": []
    },
    {
      "cell_type": "code",
      "metadata": {
        "id": "iwMqw793wUwk",
        "outputId": "37db1e69-8fec-4760-f784-7a61b2931a9f",
        "colab": {
          "base_uri": "https://localhost:8080/"
        }
      },
      "source": [
        "print(corpus)"
      ],
      "execution_count": 33,
      "outputs": [
        {
          "output_type": "stream",
          "text": [
            "['alert body class click content data div document else false for form function getelementbyid height href html http id if img input is javascript jquery js length li name new onclick option return script span src style td text the this title to tr true type value var width window', 'as begin by case count create date datetime dbo declare default desc end for from group id if in inner insert int into is join key left name not null on or order primary select set sql sum t1 table the then to type update value values varchar when where', 'add apache at catch class com exception false file final for http id if import in int is java javax lang list main method name new null object of org out println private property public return source static string sun system the this to true try type value void xml { } ;', 'add asp at bool byte class console data else false foo for foreach from get id if in int is item list name new null object of private public return select sender server set static string system text the this to tostring true type using value var void where writeline', '__init__ and class data db def django error file foo for from http id if import in is lib line models module name none not object of open os packages path print py python python2 request return self site sys test text the this to true type user usr value input float sum', '_post and array as br class com content data div echo else file for from function html http id if in input is name new null of option php public query result return row select string td test text the this title to true type url user value where www', 'and bool boost char class const cout cpp data double else end endl error file foo for function if in include int is it main name new null of operator private: public: return size std string struct template test the this to type typename unsigned using value vector virtual void', 'and argc argv array break buffer case char const count data define double else error exit file for from function if in include int is list long main malloc name next node null of printf return size sizeof stdio string struct temp the this to typedef unsigned value void while', 'angular angular2 any app class component console constructor core data div error export false from function html http id if import interface is js json let log module name new ng node_modules number path private public require return router script src string the this to true ts type value var', 'activerecord and base bin class com def div do each end error file foo for from gem gems html http id if in include is lib library local name new nil params post puts rails rake rb require ruby rubygems self string test the to true type user users usr', 'anyobject array as bool case cell class data else error false for frame func height iboutlet if image import in indexpath init int is let name nil not nsstring of override println return self sender size string super swift tableview text the to true uikit value var view viewdidload width', 'alloc array bool cell count data delegate else end error for frame id if import in indexpath init int interface is name nil no nonatomic nsarray nslog nsmutablearray nsstring objectatindex of property release retain return selector self size string stringwithformat super tableview text the to uiimage uiview view void yes', 'add and as asp byval class data dim end false for from function get handles id if in integer is item me name new next not nothing object of private property public return runat select sender server set string sub system text the then to tostring true try type value', 'and at bin data die error file foo for foreach from hash html http id if in is lib line my name new not of open or perl pl pm print return self shift strict string sub test text the this to txt type use usr value warnings while xml', 'activecell activesheet add and application as cell cells count data dim each else end error false for function if in integer is long me msgbox name new next not nothing of offset private range row rows select selection set sheets string sub text the then to true value with worksheets']\n"
          ],
          "name": "stdout"
        }
      ]
    },
    {
      "cell_type": "markdown",
      "metadata": {
        "id": "7xz6aPbT0uwQ"
      },
      "source": [
        "Creating the bag of words model"
      ]
    },
    {
      "cell_type": "code",
      "metadata": {
        "id": "cnaevMXZ02zk"
      },
      "source": [
        "from sklearn.feature_extraction.text import CountVectorizer\n",
        "cv = CountVectorizer(max_features = 1500)\n",
        "X = cv.fit_transform(corpus).toarray()\n",
        "y = dataset.iloc[:, -1].values"
      ],
      "execution_count": 34,
      "outputs": []
    },
    {
      "cell_type": "markdown",
      "metadata": {
        "id": "VkIq23vEDIPt"
      },
      "source": [
        "## Training the Naive Bayes model on the Training set"
      ]
    },
    {
      "cell_type": "code",
      "metadata": {
        "id": "DS9oiDXXDRdI",
        "outputId": "31d3c86c-fddb-476c-e70a-a0909cb17f83",
        "colab": {
          "base_uri": "https://localhost:8080/"
        }
      },
      "source": [
        "from sklearn.naive_bayes import GaussianNB\n",
        "classifier = GaussianNB()\n",
        "classifier.fit(X, y)"
      ],
      "execution_count": 35,
      "outputs": [
        {
          "output_type": "execute_result",
          "data": {
            "text/plain": [
              "GaussianNB(priors=None, var_smoothing=1e-09)"
            ]
          },
          "metadata": {
            "tags": []
          },
          "execution_count": 35
        }
      ]
    },
    {
      "cell_type": "markdown",
      "metadata": {
        "id": "1JaRM7zXDWUy"
      },
      "source": [
        "## Predicting the Test set results"
      ]
    },
    {
      "cell_type": "code",
      "metadata": {
        "id": "FNkObbii1BLO",
        "outputId": "e278f0cf-b230-4fc8-d70f-05a5c1cb8113",
        "colab": {
          "base_uri": "https://localhost:8080/"
        }
      },
      "source": [
        "new_code = pd.read_csv('Java snippet.txt',sep='\\t')\n",
        "\n",
        "new_code = new_code.iloc[:,-1].values\n",
        "s_new_code=''\n",
        "for i in range(len(new_code)):\n",
        "  s_new_code = s_new_code + (new_code[i])\n",
        "\n",
        "s_new_code = s_new_code.split()\n",
        "s_new_code = ' '.join(s_new_code)\n",
        "\n",
        "\n",
        "\n",
        "new_corpus=[s_new_code]\n",
        "\n",
        "\n",
        "new_X_test = cv.transform(new_corpus).toarray()\n",
        "new_y_pred = classifier.predict(new_X_test)\n",
        "print(new_corpus)\n",
        "print(new_X_test)\n",
        "print(new_y_pred)\n"
      ],
      "execution_count": 38,
      "outputs": [
        {
          "output_type": "stream",
          "text": [
            "['public static void main(String[] args) { int num = 5; for(int i = 1; i <= 10; ++i) { System.out.printf(\"%d * %d = %d \\\\n\", num, i, num * i); } }}']\n",
            "[[0 0 0 0 0 0 0 0 0 0 0 0 0 0 0 0 0 0 0 0 0 0 0 0 0 0 0 0 0 0 0 0 0 0 0 0\n",
            "  0 0 0 0 0 0 0 0 0 0 0 0 0 0 0 0 0 0 0 0 0 0 0 0 0 0 0 0 0 0 0 0 0 0 0 0\n",
            "  0 0 0 0 0 0 0 0 0 0 0 0 1 0 0 0 0 0 0 0 0 0 0 0 0 0 0 0 0 0 0 0 0 0 0 0\n",
            "  0 0 0 0 0 0 0 2 0 0 0 0 0 0 0 0 0 0 0 0 0 0 0 0 0 0 0 0 0 0 0 0 0 0 1 0\n",
            "  0 0 0 0 0 0 0 0 0 0 0 0 0 0 0 0 0 0 0 0 0 0 0 0 0 0 0 0 0 0 0 0 0 0 0 0\n",
            "  0 1 0 0 0 0 0 0 0 0 0 0 0 1 0 0 0 1 0 0 0 0 0 0 0 0 0 0 0 0 0 0 0 0 0 0\n",
            "  0 0 0 0 0 0 0 0 0 0 0 0 0 0 0 0 0 0 0 0 1 0 0 0 1 0 0 0 0 0 0 0 0 0 1 0\n",
            "  0 0 0 0 0 0 0 0 0 0 0 0 0 0 0 0 0 0 0 0 0 0 0 0 0 0 0 0 0 0 0 0 0 0 0 0\n",
            "  0 0 0 0 1 0 0 0 0 0 0 0 0 0 0 0 0]]\n",
            "['Java']\n"
          ],
          "name": "stdout"
        }
      ]
    }
  ]
}